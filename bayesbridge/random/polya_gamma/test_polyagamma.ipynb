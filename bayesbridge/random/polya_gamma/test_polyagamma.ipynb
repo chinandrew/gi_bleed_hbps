{
 "cells": [
  {
   "cell_type": "code",
   "execution_count": null,
   "metadata": {},
   "outputs": [],
   "source": [
    "import matplotlib.pyplot as plt\n",
    "import numpy as np\n",
    "\n",
    "from polya_gamma import PolyaGammaDist"
   ]
  },
  {
   "cell_type": "code",
   "execution_count": null,
   "metadata": {},
   "outputs": [],
   "source": [
    "import rpy2.robjects as robjects\n",
    "import rpy2.robjects.packages as rpackages\n",
    "import rpy2.robjects.numpy2ri\n",
    "\n",
    "try:\n",
    "    bayeslogit = rpackages.importr('BayesLogit')\n",
    "except:\n",
    "    utils = rpackages.importr('utils')\n",
    "    utils.install_packages('BayesLogit')\n",
    "    bayeslogit = rpackages.importr('BayesLogit')"
   ]
  },
  {
   "cell_type": "markdown",
   "metadata": {},
   "source": [
    "## Compare Python output against that of R package"
   ]
  },
  {
   "cell_type": "code",
   "execution_count": null,
   "metadata": {},
   "outputs": [],
   "source": [
    "def comparison_hist(samples_1, samples_2, use_log_scale=False):\n",
    "    if use_log_scale:\n",
    "        samples_1 = np.log(samples_1)\n",
    "        samples_2 = np.log(samples_2)\n",
    "    x_max = max(samples_1.max(), samples_2.max())\n",
    "    x_min = min(samples_1.min(), samples_2.min())\n",
    "    bins = np.linspace(x_min, x_max, 51)\n",
    "    \n",
    "    plt.hist(samples_1, alpha=.5, bins=bins, density=True)\n",
    "    plt.hist(samples_2, alpha=.5, bins=bins, density=True)\n",
    "    for side in ['left', 'top', 'right']:\n",
    "        plt.gca().spines[side].set_visible(False)\n",
    "    plt.yticks([])"
   ]
  },
  {
   "cell_type": "code",
   "execution_count": null,
   "metadata": {},
   "outputs": [],
   "source": [
    "n_samples = 10 ** 6\n",
    "shape = [1., 2.] # BayesLogit apparently requires double\n",
    "tilt = [.01, 100.]\n",
    "    # Sqrt of twice the negative tilting parameter, actually\n",
    "    \n",
    "pg = PolyaGammaDist()"
   ]
  },
  {
   "cell_type": "code",
   "execution_count": null,
   "metadata": {},
   "outputs": [],
   "source": [
    "plt.figure(figsize=(14, 4.5))\n",
    "plt.rcParams['font.size'] = 20\n",
    "\n",
    "for i in range(2):\n",
    "    \n",
    "    python_samples = pg.rand_polyagamma(\n",
    "        np.tile(shape[i], n_samples).astype(np.int), \n",
    "        np.tile(tilt[i], n_samples)\n",
    "    )\n",
    "    \n",
    "    # Sample via R package.\n",
    "    try:\n",
    "        rpy2.robjects.numpy2ri.activate()\n",
    "        r_samples = np.array(\n",
    "            bayeslogit.rpg(n_samples, shape[i], tilt[i])\n",
    "        )\n",
    "    except:\n",
    "        # In case 'numpy2ri.activate()' fails\n",
    "        r_samples = np.array([\n",
    "            bayeslogit.rpg(1, shape[i], tilt[i])[0]\n",
    "            for i in range(n_samples)\n",
    "        ])\n",
    "    \n",
    "    plt.subplot(1, 2, i + 1)\n",
    "    comparison_hist(r_samples, python_samples, use_log_scale=True)\n",
    "    \n",
    "    plt.xlabel('log(tilted stable)')\n",
    "    if i == 0:\n",
    "        plt.legend(['from R', 'from Python'], loc=[.65, .7], frameon=False)\n",
    "\n",
    "plt.show()"
   ]
  },
  {
   "cell_type": "markdown",
   "metadata": {},
   "source": [
    "## Compare against another R package"
   ]
  },
  {
   "cell_type": "code",
   "execution_count": null,
   "metadata": {},
   "outputs": [],
   "source": [
    "import rpy2.robjects as robjects\n",
    "import rpy2.robjects.packages as rpackages\n",
    "import rpy2.robjects.numpy2ri\n",
    "\n",
    "try:\n",
    "    pgdraw = rpackages.importr('pgdraw')\n",
    "except:\n",
    "    utils = rpackages.importr('utils')\n",
    "    utils.install_packages('pgdraw')\n",
    "    pgdraw = rpackages.importr('pgdraw')"
   ]
  },
  {
   "cell_type": "code",
   "execution_count": null,
   "metadata": {},
   "outputs": [],
   "source": [
    "plt.figure(figsize=(14, 4.5))\n",
    "plt.rcParams['font.size'] = 20\n",
    "\n",
    "for i in range(2):\n",
    "    \n",
    "    python_samples = pg.rand_polyagamma(\n",
    "        np.tile(shape[i], n_samples).astype(np.int), \n",
    "        np.tile(tilt[i], n_samples)\n",
    "    )\n",
    "    \n",
    "    # Sample via R package.\n",
    "    try:\n",
    "        rpy2.robjects.numpy2ri.activate()\n",
    "        r_samples = np.array(\n",
    "            pgdraw.rcpp_pgdraw(shape[i], tilt[i] * np.ones(n_samples))\n",
    "        )\n",
    "    except:\n",
    "        r_samples = np.array([\n",
    "            pgdraw.rcpp_pgdraw(shape[i], tilt[i])[0]\n",
    "            for i in range(n_samples)\n",
    "        ])\n",
    "    \n",
    "    plt.subplot(1, 2, i + 1)\n",
    "    comparison_hist(r_samples, python_samples, use_log_scale=True)\n",
    "    \n",
    "    plt.xlabel('log(tilted stable)')\n",
    "    if i == 0:\n",
    "        plt.legend(['from R', 'from Python'], loc=[.65, .7], frameon=False)\n",
    "\n",
    "plt.show()"
   ]
  },
  {
   "cell_type": "markdown",
   "metadata": {},
   "source": [
    "## Make sure general and specialized method return same outputs"
   ]
  },
  {
   "cell_type": "code",
   "execution_count": null,
   "metadata": {},
   "outputs": [],
   "source": [
    "n_samples = 10 ** 2\n",
    "tilt = .1\n",
    "shape = 1"
   ]
  },
  {
   "cell_type": "code",
   "execution_count": null,
   "metadata": {},
   "outputs": [],
   "source": [
    "seed = 0\n",
    "\n",
    "pg = PolyaGammaDist(seed)\n",
    "general_samples = pg.rand_polyagamma(\n",
    "    np.ones(n_samples, dtype=np.int), \n",
    "    tilt * np.ones(n_samples)\n",
    ")\n",
    "\n",
    "pg.set_seed(seed)\n",
    "simplified_samples = pg.rand_unit_shape_polyagamma(\n",
    "    tilt * np.ones(n_samples)\n",
    ")\n",
    "\n",
    "assert np.all(general_samples == simplified_samples)"
   ]
  }
 ],
 "metadata": {
  "kernelspec": {
   "display_name": "Python 3",
   "language": "python",
   "name": "python3"
  },
  "language_info": {
   "codemirror_mode": {
    "name": "ipython",
    "version": 3
   },
   "file_extension": ".py",
   "mimetype": "text/x-python",
   "name": "python",
   "nbconvert_exporter": "python",
   "pygments_lexer": "ipython3",
   "version": "3.6.10"
  }
 },
 "nbformat": 4,
 "nbformat_minor": 4
}
