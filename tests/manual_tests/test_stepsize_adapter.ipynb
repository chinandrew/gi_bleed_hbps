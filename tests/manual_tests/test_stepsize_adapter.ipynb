{
 "cells": [
  {
   "cell_type": "code",
   "execution_count": null,
   "metadata": {},
   "outputs": [],
   "source": [
    "import sys\n",
    "sys.path.append('..')\n",
    "sys.path.append('../..')"
   ]
  },
  {
   "cell_type": "code",
   "execution_count": null,
   "metadata": {},
   "outputs": [],
   "source": [
    "import numpy as np\n",
    "import scipy as sp\n",
    "import matplotlib.pyplot as plt\n",
    "%matplotlib inline"
   ]
  },
  {
   "cell_type": "code",
   "execution_count": null,
   "metadata": {},
   "outputs": [],
   "source": [
    "from distributions import BivariateGaussian, BivariateSkewNormal\n",
    "from bayesbridge.reg_coef_sampler.stepsize_adapter \\\n",
    "    import StepsizeAdapter, RobbinsMonroStepsizer, DualAverageStepsizeAdapter"
   ]
  },
  {
   "cell_type": "markdown",
   "metadata": {},
   "source": [
    "## Define an adaptive RWMH operator and the target distribution."
   ]
  },
  {
   "cell_type": "code",
   "execution_count": null,
   "metadata": {},
   "outputs": [],
   "source": [
    "def random_walk_MH_step(f, theta0, logp0, prop_sd):\n",
    "    \"\"\"\n",
    "    Params\n",
    "    ------\n",
    "    f : function\n",
    "        Computes the log density of the target density\n",
    "    prop_sd : scalar or vector\n",
    "        Proposal standard deviation\n",
    "    \"\"\"\n",
    "    theta = theta0.copy()\n",
    "    theta += prop_sd * np.random.randn(len(theta0))\n",
    "    logp = f(theta)\n",
    "    accept_prob = min(1, np.exp(logp - logp0))\n",
    "    accepted = accept_prob > np.random.uniform()\n",
    "    if not accepted:\n",
    "        theta = theta0\n",
    "        logp = logp0\n",
    "    return theta, logp, accept_prob, accepted\n",
    "\n",
    "def adaptive_random_walk_MH(\n",
    "        f, n_iter, x0, stepsize0, target_accept_prob=.9,\n",
    "        adapt_method='robbins-monro'\n",
    "    ):\n",
    "    \n",
    "    logp = f(x0)\n",
    "    x = x0.copy()\n",
    "    stepsize = stepsize0\n",
    "    \n",
    "    # Pre-allocate\n",
    "    samples = np.zeros((len(x0), n_iter))\n",
    "    stepsizes = np.zeros(n_iter)\n",
    "    ave_stepsizes = np.zeros(n_iter)\n",
    "    accept_probs = np.zeros(n_iter)\n",
    "    \n",
    "    if adapt_method == 'dual-average':\n",
    "        adapter = DualAverageStepsizeAdapter(\n",
    "            stepsize0, target_accept_prob\n",
    "        )\n",
    "    else:\n",
    "        adapter = StepsizeAdapter(\n",
    "            stepsize0, target_accept_prob, \n",
    "            reference_iteration=n_iter, \n",
    "            adaptsize_at_reference=0.05\n",
    "        )\n",
    "    for i in range(n_iter):\n",
    "        \n",
    "        x, logp, accept_prob, _ = \\\n",
    "            random_walk_MH_step(f, x, logp, stepsize)\n",
    "        stepsize = adapter.adapt_stepsize(accept_prob)\n",
    "        \n",
    "        samples[:, i] = x\n",
    "        stepsizes[i] = stepsize\n",
    "        ave_stepsizes[i] = adapter.get_current_stepsize(averaged=True)\n",
    "        accept_probs[i] = accept_prob\n",
    "        \n",
    "    return samples, stepsizes, ave_stepsizes, accept_probs"
   ]
  },
  {
   "cell_type": "code",
   "execution_count": null,
   "metadata": {},
   "outputs": [],
   "source": [
    "bi_skewnorm = BivariateSkewNormal()\n",
    "def f(x):\n",
    "    return bi_skewnorm.compute_logp_and_gradient(x, logp_only=True)[0]"
   ]
  },
  {
   "cell_type": "markdown",
   "metadata": {},
   "source": [
    "## Compare different adaptation schedule for Robbins-Monro algorithm."
   ]
  },
  {
   "cell_type": "code",
   "execution_count": null,
   "metadata": {},
   "outputs": [],
   "source": [
    "plt.figure(figsize=(7, 4.5))\n",
    "plt.rcParams['font.size'] = 18\n",
    "\n",
    "for decay_exponent in (1., 2 / 3, 1 / 2):\n",
    "    rm_stepsizer = RobbinsMonroStepsizer(\n",
    "        init=1., decay_exponent=decay_exponent,\n",
    "        reference_iteration=100, size_at_reference=.05)\n",
    "    adaptation_sizes = rm_stepsizer.calculate_stepsize(np.arange(500))\n",
    "    plt.plot(np.log10(adaptation_sizes), label='Exponent = {:.2f}'.format(decay_exponent))\n",
    "    \n",
    "plt.ylabel(r'$\\log_{10}$(adaptation size)')\n",
    "plt.xlabel('Number of adaptation steps')\n",
    "plt.legend()\n",
    "plt.show()"
   ]
  },
  {
   "cell_type": "markdown",
   "metadata": {},
   "source": [
    "## Run an adaptive MCMC with Robbins-Monro adaptation."
   ]
  },
  {
   "cell_type": "code",
   "execution_count": null,
   "metadata": {},
   "outputs": [],
   "source": [
    "stepsize0 = 1\n",
    "x0 = np.array([0., 0.])\n",
    "n_iter = 5 * 10 ** 4\n",
    "\n",
    "samples, stepsizes, ave_stepsizes, accept_probs = adaptive_random_walk_MH(\n",
    "    f, n_iter, x0, stepsize0, target_accept_prob=.9, \n",
    "    adapt_method='robbins-monro',\n",
    ")"
   ]
  },
  {
   "cell_type": "code",
   "execution_count": null,
   "metadata": {},
   "outputs": [],
   "source": [
    "print('The average acceptance probability is {:.2f}.'.format(np.mean(accept_probs)))"
   ]
  },
  {
   "cell_type": "markdown",
   "metadata": {},
   "source": [
    "#### Take a look at the empirical distribution: stationary distribution may be perturbed a bit due to adaptation."
   ]
  },
  {
   "cell_type": "code",
   "execution_count": null,
   "metadata": {},
   "outputs": [],
   "source": [
    "plt.figure(figsize=(7, 4.5))\n",
    "plt.rcParams['font.size'] = 20\n",
    "\n",
    "grid = np.linspace(-4, 4, 101)\n",
    "marginal_pdf = bi_skewnorm.compute_marginal_pdf(grid, grid)\n",
    "\n",
    "for axis in range(2):\n",
    "    color = 'C' + str(axis)\n",
    "    plt.hist(samples[axis, int(n_iter / 2):], \n",
    "             alpha=.5, bins=21, normed=True,\n",
    "             color=color)\n",
    "    plt.plot(grid, marginal_pdf[axis], color=color)\n",
    "plt.show()"
   ]
  },
  {
   "cell_type": "markdown",
   "metadata": {},
   "source": [
    "#### Plot the sequence of stepsizes used at each MCMC iteration as well as the average."
   ]
  },
  {
   "cell_type": "code",
   "execution_count": null,
   "metadata": {},
   "outputs": [],
   "source": [
    "plt.figure(figsize=(14, 4.5))\n",
    "\n",
    "plt.plot(np.log10(stepsizes), label='M-H stepsize')\n",
    "plt.plot(np.log10(ave_stepsizes), label='averaged stepsize')\n",
    "plt.ylim([-2.1, -.4])\n",
    "\n",
    "plt.legend()\n",
    "plt.show()"
   ]
  },
  {
   "cell_type": "markdown",
   "metadata": {},
   "source": [
    "## Run an adaptive MCMC with dual-averaging algorithm."
   ]
  },
  {
   "cell_type": "code",
   "execution_count": null,
   "metadata": {},
   "outputs": [],
   "source": [
    "stepsize0 = .1\n",
    "x0 = np.array([0., 0.])\n",
    "n_iter = 5 * 10 ** 4\n",
    "samples, stepsizes, ave_stepsizes, accept_probs = adaptive_random_walk_MH(\n",
    "    f, n_iter, x0, stepsize0, target_accept_prob=.9, \n",
    "    adapt_method='dual-average',\n",
    ")"
   ]
  },
  {
   "cell_type": "code",
   "execution_count": null,
   "metadata": {},
   "outputs": [],
   "source": [
    "print('The average acceptance probability is {:.2f}.'.format(np.mean(accept_probs)))"
   ]
  },
  {
   "cell_type": "markdown",
   "metadata": {},
   "source": [
    "#### Take a look at the empirical distribution: stationary distribution may be perturbed a bit due to adaptation."
   ]
  },
  {
   "cell_type": "code",
   "execution_count": null,
   "metadata": {},
   "outputs": [],
   "source": [
    "plt.figure(figsize=(7, 4.5))\n",
    "plt.rcParams['font.size'] = 20\n",
    "\n",
    "grid = np.linspace(-4, 4, 101)\n",
    "marginal_pdf = bi_skewnorm.compute_marginal_pdf(grid, grid)\n",
    "\n",
    "for axis in range(2):\n",
    "    color = 'C' + str(axis)\n",
    "    plt.hist(samples[axis, int(n_iter / 2):], \n",
    "             alpha=.5, bins=21, normed=True,\n",
    "             color=color)\n",
    "    plt.plot(grid, marginal_pdf[axis], color=color)\n",
    "plt.show()"
   ]
  },
  {
   "cell_type": "markdown",
   "metadata": {},
   "source": [
    "#### Plot the sequence of stepsizes used at each MCMC iteration as well as the average."
   ]
  },
  {
   "cell_type": "code",
   "execution_count": null,
   "metadata": {},
   "outputs": [],
   "source": [
    "plt.figure(figsize=(14, 4.5))\n",
    "\n",
    "plt.plot(np.log10(stepsizes), label='M-H stepsize')\n",
    "plt.plot(np.log10(ave_stepsizes), label='averaged stepsize')\n",
    "plt.ylim([-2.1, -.4])\n",
    "\n",
    "plt.legend()\n",
    "plt.show()"
   ]
  }
 ],
 "metadata": {
  "kernelspec": {
   "display_name": "Python 3",
   "language": "python",
   "name": "python3"
  },
  "language_info": {
   "codemirror_mode": {
    "name": "ipython",
    "version": 3
   },
   "file_extension": ".py",
   "mimetype": "text/x-python",
   "name": "python",
   "nbconvert_exporter": "python",
   "pygments_lexer": "ipython3",
   "version": "3.6.3"
  }
 },
 "nbformat": 4,
 "nbformat_minor": 1
}
