{
 "cells": [
  {
   "cell_type": "code",
   "execution_count": null,
   "metadata": {},
   "outputs": [],
   "source": [
    "import sys\n",
    "sys.path.append('../')\n",
    "sys.path.append('../../')\n",
    "\n",
    "from bayesbridge.random.tilted_stable_dist.rand_exp_tilted_stable \\\n",
    "    import ExpTiltedStableDist\n",
    "from random import normalvariate as norm_rv\n",
    "from math import sqrt, gamma\n",
    "import numpy as np\n",
    "\n",
    "import matplotlib.pyplot as plt\n",
    "%matplotlib inline"
   ]
  },
  {
   "cell_type": "markdown",
   "metadata": {},
   "source": [
    "## Gibbs sample a powered-exponential distribution using the tilted stable sampler."
   ]
  },
  {
   "cell_type": "code",
   "execution_count": null,
   "metadata": {},
   "outputs": [],
   "source": [
    "tilted_stable = ExpTiltedStableDist(seed=0)\n",
    "\n",
    "def powered_exp_dist_gibbs(n_sample, n_burnin=0, exponent=.5, scale=1.):\n",
    "    beta = 0.\n",
    "    samples = np.zeros(n_sample + n_burnin)\n",
    "    for i in range(n_burnin + n_sample):\n",
    "        lshrink_sq = .5 / tilted_stable.rv(exponent / 2, (beta / scale) ** 2)\n",
    "        lshrink = sqrt(lshrink_sq)\n",
    "        beta = lshrink * norm_rv(0., 1.)\n",
    "        samples[i] = beta\n",
    "    samples = samples[n_burnin:]\n",
    "    return samples\n",
    "\n",
    "def powered_exp_pdf(x, exponent, scale=1., normed=True):\n",
    "    pdf = np.exp(- np.abs(x / scale) ** exponent)\n",
    "    if normed:\n",
    "        pdf *= exponent / (2 * scale * gamma(exponent ** -1))\n",
    "    return pdf"
   ]
  },
  {
   "cell_type": "code",
   "execution_count": null,
   "metadata": {},
   "outputs": [],
   "source": [
    "n_sample = 10 ** 6\n",
    "n_burnin = 10 ** 3\n",
    "exponent = 1 / 2\n",
    "samples = powered_exp_dist_gibbs(n_sample, n_burnin, exponent)"
   ]
  },
  {
   "cell_type": "code",
   "execution_count": null,
   "metadata": {},
   "outputs": [],
   "source": [
    "plt.figure(figsize=(8, 5))\n",
    "plt.rcParams['font.size'] = 20\n",
    "\n",
    "plot_range = 25 * np.array([-1, 1])\n",
    "bins = np.linspace(plot_range[0], plot_range[1], 100)\n",
    "x = np.linspace(plot_range[0], plot_range[1], 10001)\n",
    "plt.hist(samples, bins=bins, density=True)\n",
    "plt.plot(x, powered_exp_pdf(x, exponent), 'tab:green')\n",
    "plt.show()"
   ]
  }
 ],
 "metadata": {
  "kernelspec": {
   "display_name": "Python 3",
   "language": "python",
   "name": "python3"
  },
  "language_info": {
   "codemirror_mode": {
    "name": "ipython",
    "version": 3
   },
   "file_extension": ".py",
   "mimetype": "text/x-python",
   "name": "python",
   "nbconvert_exporter": "python",
   "pygments_lexer": "ipython3",
   "version": "3.7.3"
  }
 },
 "nbformat": 4,
 "nbformat_minor": 2
}
