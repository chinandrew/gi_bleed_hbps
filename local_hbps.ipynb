{
 "cells": [
  {
   "cell_type": "code",
   "execution_count": 1,
   "id": "14041904-1625-4d81-a739-13f9d1c35689",
   "metadata": {},
   "outputs": [],
   "source": [
    "from bayesbridge.reg_coef_sampler.hamiltonian_bps.hbps_dynamics import HBPSDynamics\n",
    "from bayesbridge.reg_coef_sampler.hamiltonian_bps.hbps import HBPSSampler\n",
    "from bayesbridge.reg_coef_sampler.hamiltonian_bps.dynamics import move_position, reflect_velocity\n",
    "from mcmc_diagnostics import estimate_ess\n",
    "import numpy as np"
   ]
  },
  {
   "cell_type": "markdown",
   "id": "b7e28765-3d7d-43d9-a51c-d1159dd4550e",
   "metadata": {},
   "source": [
    "Trivariate normal with $x_1 \\perp \\!\\!\\!\\!\\! \\perp x_3 \\mid x_2$."
   ]
  },
  {
   "cell_type": "code",
   "execution_count": 2,
   "id": "ae2f1f93-8953-4528-b117-03a157557f7a",
   "metadata": {},
   "outputs": [],
   "source": [
    "rho12 = rho23 = 0.5\n",
    "rho13 = rho12 * rho23\n",
    "cov = np.array([[1, rho12, rho13], \n",
    "                [rho12, 1, rho23],\n",
    "                [rho13, rho23, 1]])\n",
    "prec = np.linalg.inv(cov)\n",
    "denom = 2*(rho12**2 + rho13**2 + rho23**2 - 2 * rho12 * rho13 * rho23 - 1)\n",
    "d = cov.shape[1]\n",
    "\n",
    "def f(x, loglik_only=False):\n",
    "    \"\"\"Full likelihood.\"\"\"\n",
    "    loglik = -0.5 * x @ prec  @ x\n",
    "    if loglik_only:\n",
    "        return loglik, None\n",
    "    return loglik, -prec @ x\n",
    "\n",
    "def f1(x, loglik_only=False):\n",
    "    \"\"\"(x_1, x_2) factor likelihood.\"\"\"\n",
    "    x1 = x[0]\n",
    "    x2 = x[1]\n",
    "    loglik = -(x1**2*(rho23**2-1)+x2**2*(rho13**2-1)/2 +2*x1*x2*(rho12-rho13*rho23))/denom\n",
    "    if loglik_only:\n",
    "        return  loglik, None\n",
    "    return loglik, -np.array([2*x1*(rho23**2-1)+2*x2*(rho12-rho13*rho23), 2*x2*(rho13**2-1)/2 +2*x1*(rho12-rho13*rho23)])/denom\n",
    "\n",
    "def f2(x, loglik_only=False):\n",
    "    \"\"\"(x_2, x_3) factor likelihood.\"\"\"\n",
    "    x1 = x[0]\n",
    "    x2 = x[1]\n",
    "    loglik = -(x1**2*(rho13**2-1)/2 + x2**2*(rho12**2-1)+2*x1*x2*(rho23-rho12*rho13))/denom\n",
    "    if loglik_only:\n",
    "        return  loglik, None\n",
    "    return loglik, -np.array([2*x1*(rho13**2-1)/2 +2*x2*(rho23-rho12*rho13), 2*x2*(rho12**2-1)+2*x1*(rho23-rho12*rho13)])/denom\n"
   ]
  },
  {
   "cell_type": "code",
   "execution_count": 3,
   "id": "6be3a002-83dd-4e41-a4d2-3ecb117172c1",
   "metadata": {},
   "outputs": [],
   "source": [
    "x = np.array([-0.5, 0.6, 0.7])"
   ]
  },
  {
   "cell_type": "code",
   "execution_count": 4,
   "id": "7182eb97-ed66-48f6-8780-9c7b66de1535",
   "metadata": {},
   "outputs": [
    {
     "data": {
      "text/plain": [
       "(-0.7133333333333332, array([ 1.06666667, -0.86666667, -0.53333333]))"
      ]
     },
     "execution_count": 4,
     "metadata": {},
     "output_type": "execute_result"
    }
   ],
   "source": [
    "grad = np.zeros(3)\n",
    "grad[:2] += f1(x[:2])[1] \n",
    "grad[-2:] += f2(x[-2:])[1]\n",
    "f1(x[:2])[0] + f2(x[-2:])[0], grad"
   ]
  },
  {
   "cell_type": "code",
   "execution_count": 5,
   "id": "4c3641bd-09b3-4321-9628-b8661e77f6b9",
   "metadata": {},
   "outputs": [
    {
     "data": {
      "text/plain": [
       "(-0.7133333333333333, array([ 1.06666667, -0.86666667, -0.53333333]))"
      ]
     },
     "execution_count": 5,
     "metadata": {},
     "output_type": "execute_result"
    }
   ],
   "source": [
    "f(x)"
   ]
  },
  {
   "cell_type": "markdown",
   "id": "efc5dc1c-8932-4e4c-a713-71530d43d227",
   "metadata": {},
   "source": [
    "## Standard HBPS"
   ]
  },
  {
   "cell_type": "code",
   "execution_count": 6,
   "id": "4afe3f5b-555e-437f-a200-603416c328bf",
   "metadata": {},
   "outputs": [],
   "source": [
    "n = 10000\n",
    "samples = np.empty((d, n))"
   ]
  },
  {
   "cell_type": "code",
   "execution_count": 7,
   "id": "5d3f6e75-fc04-4e82-9b75-27f45fd6f315",
   "metadata": {},
   "outputs": [
    {
     "name": "stdout",
     "output_type": "stream",
     "text": [
      "CPU times: user 8.38 s, sys: 47.1 ms, total: 8.43 s\n",
      "Wall time: 8.33 s\n"
     ]
    }
   ],
   "source": [
    "%%time\n",
    "np.random.seed(0)\n",
    "# arbitrary initial position and integration time\n",
    "x = np.array([-0.5, 0.6, 0.7])  \n",
    "t = 2\n",
    "for i in range(n):\n",
    "    v = np.random.normal(size=3)\n",
    "    inertia = np.random.exponential(1)\n",
    "    x = HBPSSampler.generate_next_state(f, x, v, inertia, t)[0]\n",
    "    samples[:, i] = x"
   ]
  },
  {
   "cell_type": "code",
   "execution_count": 8,
   "id": "69c057d2-75ae-4efa-8fc2-2f5314214e7d",
   "metadata": {},
   "outputs": [
    {
     "data": {
      "text/plain": [
       "(array([0.00287305, 0.00444365, 0.01142087]),\n",
       " array([[0.98722259, 0.48479526, 0.2460593 ],\n",
       "        [0.48479526, 0.99135137, 0.5043487 ],\n",
       "        [0.2460593 , 0.5043487 , 1.0091644 ]]))"
      ]
     },
     "execution_count": 8,
     "metadata": {},
     "output_type": "execute_result"
    }
   ],
   "source": [
    "np.mean(samples, axis=1), np.cov(samples)"
   ]
  },
  {
   "cell_type": "code",
   "execution_count": 9,
   "id": "55780a99-4458-4272-9a7d-ffd1e3ba091a",
   "metadata": {},
   "outputs": [
    {
     "data": {
      "text/plain": [
       "array([6143.6597384 , 5008.40787224, 5407.26120169])"
      ]
     },
     "execution_count": 9,
     "metadata": {},
     "output_type": "execute_result"
    }
   ],
   "source": [
    "estimate_ess(samples.T)"
   ]
  },
  {
   "cell_type": "markdown",
   "id": "c30665d2-ca0b-4976-92e9-65ca1a648fef",
   "metadata": {},
   "source": [
    "## Local HBPS"
   ]
  },
  {
   "cell_type": "code",
   "execution_count": 10,
   "id": "d56ee19f-6e85-46dd-a0a6-f49070fc593e",
   "metadata": {},
   "outputs": [],
   "source": [
    "def next_bounce_time(fs, x, v, inertias, factors):\n",
    "    bounce_times = []\n",
    "    logps = []\n",
    "    for f, inertia, factor in zip(fs, inertias, factors):\n",
    "        logp = f(x[factor], loglik_only=True)[0]\n",
    "        bounce_time = HBPSDynamics.next_bounce_time(f, None, x[factor], v[factor], inertia, -logp)\n",
    "        bounce_times.append(bounce_time)\n",
    "        logps.append(logp)\n",
    "    next_bounce = min(bounce_times)\n",
    "    bounce_factor = np.argmin(bounce_times)\n",
    "    assert np.isfinite(next_bounce)\n",
    "    return next_bounce, bounce_factor, logps\n",
    "\n",
    "def update_inertias(x, inertias, old_logps, fs, factors, bounce_factor):\n",
    "    for i, f in enumerate(fs):\n",
    "        if i == bounce_factor:\n",
    "            inertias[i] = 0\n",
    "        else:\n",
    "            new_logp, _ = fs[i](x[factors[i]], loglik_only=True)\n",
    "            inertias[i] = inertias[i]- old_logps[i] + new_logp\n",
    "    return inertias\n",
    "\n",
    "def generate_next_state_local(fs, x, v, inertias, t, factors):\n",
    "    total_time = 0\n",
    "    while total_time < t:\n",
    "        remaining_time = t-total_time\n",
    "        next_bounce, bounce_factor, logps = next_bounce_time(fs, x, v, inertias, factors)\n",
    "        if remaining_time < next_bounce:\n",
    "            return move_position(x, v, remaining_time)\n",
    "        else:\n",
    "            x = move_position(x, v, next_bounce)\n",
    "            _, grad = fs[bounce_factor](x[factors[bounce_factor]])\n",
    "            grad = -grad\n",
    "            v[factors[bounce_factor]] = reflect_velocity(v[factors[bounce_factor]], grad)\n",
    "            inertias = update_inertias(x, inertias, logps, fs, factors, bounce_factor)\n",
    "            total_time += next_bounce\n"
   ]
  },
  {
   "cell_type": "markdown",
   "id": "84c2b192-11d2-4475-8d37-591508977911",
   "metadata": {},
   "source": [
    "### Single factor (non-local) using local code."
   ]
  },
  {
   "cell_type": "code",
   "execution_count": 11,
   "id": "d7e6872c-062b-42f5-b362-748913674db4",
   "metadata": {},
   "outputs": [],
   "source": [
    "n = 10000\n",
    "samples = np.empty((d, n))"
   ]
  },
  {
   "cell_type": "code",
   "execution_count": 12,
   "id": "5dcbc4c5-6263-453e-868e-3b42a944a23a",
   "metadata": {
    "tags": []
   },
   "outputs": [
    {
     "name": "stdout",
     "output_type": "stream",
     "text": [
      "CPU times: user 11.5 s, sys: 15.7 ms, total: 11.5 s\n",
      "Wall time: 11.5 s\n"
     ]
    }
   ],
   "source": [
    "%%time\n",
    "np.random.seed(0)\n",
    "x = np.array([-0.5, 0.6, 0.7])\n",
    "t = 2\n",
    "fs = [f]\n",
    "factors = [slice(0,3)]\n",
    "for i in range(n):\n",
    "    v = np.random.normal(size=3)\n",
    "    inertias = np.random.exponential(size=len(fs))\n",
    "    x = generate_next_state_local(fs, x, v, inertias, t, factors)\n",
    "    samples[:, i] = x"
   ]
  },
  {
   "cell_type": "code",
   "execution_count": 13,
   "id": "e9ab05d3-4831-4b82-93bb-4cde7297d9f7",
   "metadata": {},
   "outputs": [
    {
     "data": {
      "text/plain": [
       "(array([0.00089618, 0.00428629, 0.00114301]),\n",
       " array([[1.02082372, 0.50035752, 0.25806031],\n",
       "        [0.50035752, 1.00997449, 0.50939196],\n",
       "        [0.25806031, 0.50939196, 1.02975557]]))"
      ]
     },
     "execution_count": 13,
     "metadata": {},
     "output_type": "execute_result"
    }
   ],
   "source": [
    "np.mean(samples, axis=1), np.cov(samples)"
   ]
  },
  {
   "cell_type": "code",
   "execution_count": 14,
   "id": "c589f160-b52a-4161-9e01-4f47f2d9d912",
   "metadata": {},
   "outputs": [
    {
     "data": {
      "text/plain": [
       "array([5925.74438395, 4988.78881791, 5774.02659024])"
      ]
     },
     "execution_count": 14,
     "metadata": {},
     "output_type": "execute_result"
    }
   ],
   "source": [
    "estimate_ess(samples.T)"
   ]
  },
  {
   "cell_type": "markdown",
   "id": "df788f29-bcf9-4e56-9af5-18e033f710d3",
   "metadata": {},
   "source": [
    "### Two factors"
   ]
  },
  {
   "cell_type": "code",
   "execution_count": 15,
   "id": "970cf7b5-c934-4fed-afa3-13058369292c",
   "metadata": {},
   "outputs": [],
   "source": [
    "n = 10000\n",
    "samples = np.empty((d, n))"
   ]
  },
  {
   "cell_type": "code",
   "execution_count": 16,
   "id": "420b0585-a069-48d4-a0ef-6ea535319b36",
   "metadata": {
    "tags": []
   },
   "outputs": [
    {
     "name": "stdout",
     "output_type": "stream",
     "text": [
      "CPU times: user 27.7 s, sys: 22.8 ms, total: 27.7 s\n",
      "Wall time: 27.7 s\n"
     ]
    }
   ],
   "source": [
    "%%time\n",
    "np.random.seed(0)\n",
    "x = np.array([-0.5, 0.6, 0.7])\n",
    "t = 2\n",
    "fs = [f1, f2]\n",
    "factors = [slice(0,2), slice(1,3)]\n",
    "for i in range(n):\n",
    "    v = np.random.normal(size=3)\n",
    "    inertias = np.random.exponential(size=len(fs))\n",
    "    x = generate_next_state_local(fs, x, v, inertias, t, factors)\n",
    "    samples[:, i] = x"
   ]
  },
  {
   "cell_type": "code",
   "execution_count": 17,
   "id": "d8b1697a-8ce7-4d8c-a7ff-39bf855ffbd9",
   "metadata": {},
   "outputs": [
    {
     "data": {
      "text/plain": [
       "(array([7.75482031e-04, 1.32057931e-02, 9.55090005e-05]),\n",
       " array([[0.96949429, 0.48203708, 0.24816796],\n",
       "        [0.48203708, 0.98258567, 0.48981733],\n",
       "        [0.24816796, 0.48981733, 0.98257495]]))"
      ]
     },
     "execution_count": 17,
     "metadata": {},
     "output_type": "execute_result"
    }
   ],
   "source": [
    "np.mean(samples, axis=1), np.cov(samples)"
   ]
  },
  {
   "cell_type": "code",
   "execution_count": 18,
   "id": "530cf966-dbcd-4141-ba0a-85353da21655",
   "metadata": {},
   "outputs": [
    {
     "data": {
      "text/plain": [
       "array([5310.32370348, 5676.42813025, 5470.24124804])"
      ]
     },
     "execution_count": 18,
     "metadata": {},
     "output_type": "execute_result"
    }
   ],
   "source": [
    "estimate_ess(samples.T)"
   ]
  },
  {
   "cell_type": "code",
   "execution_count": null,
   "id": "01f1c4b2-721e-4739-be96-55387b034393",
   "metadata": {},
   "outputs": [],
   "source": []
  }
 ],
 "metadata": {
  "kernelspec": {
   "display_name": "Python 3 (ipykernel)",
   "language": "python",
   "name": "python3"
  },
  "language_info": {
   "codemirror_mode": {
    "name": "ipython",
    "version": 3
   },
   "file_extension": ".py",
   "mimetype": "text/x-python",
   "name": "python",
   "nbconvert_exporter": "python",
   "pygments_lexer": "ipython3",
   "version": "3.8.10"
  }
 },
 "nbformat": 4,
 "nbformat_minor": 5
}
